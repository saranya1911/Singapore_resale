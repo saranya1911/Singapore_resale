{
 "cells": [
  {
   "cell_type": "code",
   "execution_count": null,
   "metadata": {},
   "outputs": [],
   "source": [
    "import glob\n",
    "import pandas as pd\n",
    "import json\n",
    "import requests"
   ]
  },
  {
   "cell_type": "code",
   "execution_count": null,
   "metadata": {},
   "outputs": [],
   "source": [
    "df = pd.concat([pd.read_csv(f) for f in glob.glob(\"./data/*.csv\")], ignore_index=True)\n",
    "df.head()"
   ]
  },
  {
   "cell_type": "code",
   "execution_count": null,
   "metadata": {},
   "outputs": [],
   "source": [
    "df.shape"
   ]
  },
  {
   "cell_type": "code",
   "execution_count": null,
   "metadata": {},
   "outputs": [],
   "source": [
    "df.isnull().sum()"
   ]
  },
  {
   "cell_type": "code",
   "execution_count": null,
   "metadata": {},
   "outputs": [],
   "source": [
    "# droping remaining_lease missing values\n",
    "df = df.dropna()\n",
    "df.isnull().sum()"
   ]
  },
  {
   "cell_type": "code",
   "execution_count": null,
   "metadata": {},
   "outputs": [],
   "source": [
    "df['town'].unique()"
   ]
  },
  {
   "cell_type": "code",
   "execution_count": null,
   "metadata": {},
   "outputs": [],
   "source": [
    "list_of_mrt = [\n",
    "    'Jurong East MRT Station',\n",
    "    'Bukit Batok MRT Station',\n",
    "    'Bukit Gombak MRT Station',\n",
    "    'Choa Chu Kang MRT Station',\n",
    "    'Yew Tee MRT Station',\n",
    "    'Kranji MRT Station',\n",
    "    'Marsiling MRT Station',\n",
    "    'Woodlands MRT Station',\n",
    "    'Admiralty MRT Station',\n",
    "    'Sembawang MRT Station',\n",
    "    'Canberra MRT Station',\n",
    "    'Yishun MRT Station',\n",
    "    'Khatib MRT Station',\n",
    "    'Yio Chu Kang MRT Station',\n",
    "    'Ang Mo Kio MRT Station',\n",
    "    'Bishan MRT Station',\n",
    "    'Braddell MRT Station',\n",
    "    Toa Payoh MRT Station',\n",
    "    'Novena MRT Station',\n",
    "    'Newton MRT Station',\n",
    "    'Orchard MRT Station',\n",
    "    'Somerset MRT Station',\n",
    "    'Dhoby Ghaut MRT Station',\n",
    "    'City Hall MRT Station',\n",
    "    'Raffles Place MRT Station',\n",
    "    'Marina Bay MRT Station',\n",
    "    'Marina South Pier MRT Station',\n",
    "    'Pasir Ris MRT Station',\n",
    "    'Tampines MRT Station',\n",
    "    'Simei MRT Station',\n",
    "    'Tanah Merah MRT Station',\n",
    "    'Bedok MRT Station',\n",
    "    'Kembangan MRT Station',\n",
    "    'Eunos MRT Station',\n",
    "    'Paya Lebar MRT Station',\n",
    "    'Aljunied MRT Station',\n",
    "    'Kallang MRT Station',\n",
    "    'Lavender MRT Station',\n",
    "    'Bugis MRT Station',\n",
    "    'Tanjong Pagar MRT Station',\n",
    "    'Outram Park MRT Station',\n",
    "    'Tiong Bahru MRT Station',\n",
    "    'Redhill MRT Station',\n",
    "    'Queenstown MRT Station',\n",
    "    'Commonwealth MRT Station',\n",
    "    'Buona Vista MRT Station',\n",
    "    'Dover MRT Station',\n",
    "    'Clementi MRT Station',\n",
    "    'Chinese Garden MRT Station',\n",
    "    'Lakeside MRT Station',\n",
    "    'Boon Lay MRT Station',\n",
    "    'Pioneer MRT Station',\n",
    "    'Joo Koon MRT Station',\n",
    "    'Gul Circle MRT Station',\n",
    "    'Tuas Crescent MRT Station',\n",
    "    'Tuas West Road MRT Station',\n",
    "    'Tuas Link MRT Station',\n",
    "    'Expo MRT Station',\n",
    "    'Changi Airport MRT Station',\n",
    "    'HarbourFront MRT Station',\n",
    "    'Chinatown MRT Station',\n",
    "    'Clarke Quay MRT Station',\n",
    "    'Little India MRT Station',\n",
    "    'Farrer Park MRT Station',\n",
    "    'Boon Keng MRT Station',\n",
    "    'Potong Pasir MRT Station',\n",
    "    'Woodleigh MRT Station',\n",
    "    'Serangoon MRT Station',\n",
    "    'Kovan MRT Station',\n",
    "    'Hougang MRT Station',\n",
    "    'Buangkok MRT Station',\n",
    "    'Sengkang MRT Station',\n",
    "    'Punggol MRT Station',\n",
    "    'Bras Basah MRT Station',\n",
    "    'Esplanade MRT Station',\n",
    "    'Promenade MRT Station',\n",
    "    'Nicoll Highway MRT Station',\n",
    "    'Stadium MRT Station',\n",
    "    'Mountbatten MRT Station',\n",
    "    'Dakota MRT Station',\n",
    "    'MacPherson MRT Station',\n",
    "    'Tai Seng MRT Station',\n",
    "    'Bartley MRT Station',\n",
    "    'Lorong Chuan MRT Station',\n",
    "    'Marymount MRT Station',\n",
    "    'Caldecott MRT Station',\n",
    "    'Botanic Gardens MRT Station',\n",
    "    'Farrer Road MRT Station',\n",
    "    'Holland Village MRT Station',\n",
    "    'one-north MRT Station',\n",
    "    'Kent Ridge MRT Station',\n",
    "    'Haw Par Villa MRT Station',\n",
    "    'Pasir Panjang MRT Station',\n",
    "    'Labrador Park MRT Station',\n",
    "    'Telok Blangah MRT Station',\n",
    "    'Bayfront MRT Station',\n",
    "    'Bukit Panjang MRT Station',\n",
    "    'Cashew MRT Station',\n",
    "    'Hillview MRT Station',\n",
    "    'Beauty World MRT Station',\n",
    "    'King Albert Park MRT Station',\n",
    "    'Sixth Avenue MRT Station',\n",
    "    'Tan Kah Kee MRT Station',\n",
    "    'Stevens MRT Station',\n",
    "    'Rochor MRT Station',\n",
    "    'Downtown MRT Station',\n",
    "    'Telok Ayer MRT Station',\n",
    "    'Fort Canning MRT Station',\n",
    "    'Bencoolen MRT Station',\n",
    "    'Jalan Besar MRT Station',\n",
    "    'Bendemeer MRT Station',\n",
    "    'Geylang Bahru MRT Station',\n",
    "    'Mattar MRT Station',\n",
    "    'Ubi MRT Station',\n",
    "    'Kaki Bukit MRT Station',\n",
    "    'Bedok North MRT Station',\n",
    "    'Bedok Reservoir MRT Station',\n",
    "    'Tampines West MRT Station',\n",
    "    'Tampines East MRT Station',\n",
    "    'Upper Changi MRT Station',\n",
    "    'Woodlands North MRT Station',\n",
    "    'Woodlands South MRT Station'\n",
    "]"
   ]
  },
  {
   "cell_type": "code",
   "execution_count": null,
   "metadata": {},
   "outputs": [],
   "source": [
    "mrt_lat = []\n",
    "mrt_long = []\n",
    "\n",
    "for i in range(0, len(list_of_mrt)):\n",
    "    query_address = list_of_mrt[i]\n",
    "    query_string = 'https://developers.onemap.sg/commonapi/search?searchVal='+str(query_address)+'&returnGeom=Y&getAddrDetails=Y'\n",
    "    resp = requests.get(query_string)\n",
    "\n",
    "    data_mrt=json.loads(resp.content)\n",
    "\n",
    "    if data_mrt['found'] != 0:\n",
    "        mrt_lat.append(data_mrt[\"results\"][0][\"LATITUDE\"])\n",
    "        mrt_long.append(data_mrt[\"results\"][0][\"LONGITUDE\"])\n",
    "\n",
    "        print (str(query_address)+\",Lat: \"+data_mrt['results'][0]['LATITUDE'] +\" Long: \"+data_mrt['results'][0]['LONGITUDE'])\n",
    "\n",
    "    else:\n",
    "        mrt_lat.append('NotFound')\n",
    "        mrt_lat.append('NotFound')\n",
    "        print (\"No Results\")"
   ]
  },
  {
   "cell_type": "code",
   "execution_count": null,
   "metadata": {},
   "outputs": [],
   "source": [
    "mrt_location = pd.DataFrame({\n",
    "    'MRT': list_of_mrt,\n",
    "    'latitude': mrt_lat,\n",
    "    'longitude': mrt_long\n",
    "})"
   ]
  },
  {
   "cell_type": "code",
   "execution_count": null,
   "metadata": {},
   "outputs": [],
   "source": [
    "df['address'] = df['block'] + \" \" + df['street_name']\n",
    "df"
   ]
  },
  {
   "cell_type": "code",
   "execution_count": null,
   "metadata": {},
   "outputs": [],
   "source": [
    "address_list = df['address'].unique()"
   ]
  },
  {
   "cell_type": "code",
   "execution_count": null,
   "metadata": {},
   "outputs": [],
   "source": [
    "latitude = []\n",
    "longitude = []\n",
    "blk_no = []\n",
    "road_name = []\n",
    "postal_code = []\n",
    "address = []\n",
    "count = 0\n",
    "\n",
    "for row in range(len(address_list)):\n",
    "    query_address = address_list[row]\n",
    "    query_string='https://developers.onemap.sg/commonapi/search?searchVal='+str(query_address)+'&returnGeom=Y&getAddrDetails=Y'\n",
    "    resp = requests.get(query_string)\n",
    "\n",
    "\n",
    "    data_geo_location=json.loads(resp.content)\n",
    "    if data_geo_location['found'] != 0:\n",
    "        latitude.append(data_geo_location['results'][0]['LATITUDE'])\n",
    "        longitude.append(data_geo_location['results'][0]['LONGITUDE'])\n",
    "        blk_no.append(data_geo_location['results'][0]['BLK_NO'])\n",
    "        road_name.append(data_geo_location['results'][0]['ROAD_NAME'])\n",
    "        postal_code.append(data_geo_location['results'][0]['POSTAL'])\n",
    "        address.append(query_address)\n",
    "        print (str(query_address) + \" ,Lat: \" + data_geo_location['results'][0]['LATITUDE'] + \" Long: \" + data_geo_location['results'][0]['LONGITUDE'])\n",
    "    else:\n",
    "        print (\"No Results\")"
   ]
  },
  {
   "cell_type": "code",
   "execution_count": null,
   "metadata": {},
   "outputs": [],
   "source": [
    "df_coordinates = pd.DataFrame({\n",
    "    'latitude': latitude,\n",
    "    'longitude': longitude,\n",
    "    'blk_no': blk_no,\n",
    "    'road_name': road_name,\n",
    "    'postal_code': postal_code,\n",
    "    'address': address\n",
    "})\n",
    "len(df_coordinates)"
   ]
  },
  {
   "cell_type": "code",
   "execution_count": null,
   "metadata": {},
   "outputs": [],
   "source": [
    "list_of_lat = df_coordinates['latitude']\n",
    "list_of_long = df_coordinates['longitude']\n",
    "mrt_lat = mrt_location['latitude']\n",
    "mrt_long = mrt_location['longitude']"
   ]
  },
  {
   "cell_type": "code",
   "execution_count": null,
   "metadata": {},
   "outputs": [],
   "source": [
    "list_of_coordinates = []\n",
    "list_of_mrt_coordinates = []\n",
    "\n",
    "for lat, long in zip(list_of_lat, list_of_long):\n",
    "    list_of_coordinates.append((lat,long))\n",
    "for lat, long in zip(mrt_lat, mrt_long):\n",
    "    list_of_mrt_coordinates.append((lat, long))"
   ]
  },
  {
   "cell_type": "code",
   "execution_count": null,
   "metadata": {},
   "outputs": [],
   "source": [
    "# Distance to nearest MRT\n",
    "from geopy.distance import geodesic\n",
    "\n",
    "list_of_dist_mrt = []\n",
    "min_dist_mrt = []\n",
    "\n",
    "for origin in list_of_coordinates:\n",
    "    for destination in range(0, len(list_of_mrt_coordinates)):\n",
    "        list_of_dist_mrt.append(geodesic(origin,list_of_mrt_coordinates[destination]).meters)\n",
    "    shortest = (min(list_of_dist_mrt))\n",
    "    min_dist_mrt.append(shortest)\n",
    "    list_of_dist_mrt.clear()"
   ]
  },
  {
   "cell_type": "code",
   "execution_count": null,
   "metadata": {},
   "outputs": [],
   "source": [
    "# Distance from CDB\n",
    "cbd_dist = []\n",
    "\n",
    "for origin in list_of_coordinates:\n",
    "    cbd_dist.append(geodesic(origin,(1.2830, 103.8513)).meters) #CBD coordinates"
   ]
  },
  {
   "cell_type": "code",
   "execution_count": null,
   "metadata": {},
   "outputs": [],
   "source": [
    "# Put MRT and CBD distance together\n",
    "df_coordinates['cbd_dist'] = cbd_dist\n",
    "df_coordinates['min_dist_mrt'] = min_dist_mrt"
   ]
  },
  {
   "cell_type": "code",
   "execution_count": null,
   "metadata": {},
   "outputs": [],
   "source": [
    "df_coordinates"
   ]
  },
  {
   "cell_type": "code",
   "execution_count": null,
   "metadata": {},
   "outputs": [],
   "source": [
    "df_coordinates.to_csv('df_coordinates.csv',index=False)"
   ]
  },
  {
   "cell_type": "code",
   "execution_count": null,
   "metadata": {},
   "outputs": [],
   "source": [
    "df_coordinates = pd.read_csv('df_coordinates.csv')"
   ]
  },
  {
   "cell_type": "code",
   "execution_count": null,
   "metadata": {},
   "outputs": [],
   "source": [
    "df_new = df_coordinates.merge(df, on=\"address\", how='outer')\n",
    "df_new"
   ]
  },
  {
   "cell_type": "code",
   "execution_count": null,
   "metadata": {},
   "outputs": [],
   "source": [
    "df_new['resale_price'] = df_new['resale_price'].astype('float')\n",
    "df_new['floor_area_sqm'] = df_new['floor_area_sqm'].astype('float')\n",
    "df_new['lease_commence_date'] = df_new['lease_commence_date'].astype('int64')\n",
    "df_new['lease_remain_years'] = 99 - (2023 - df_new['lease_commence_date'])\n",
    "\n",
    "df_new.dropna(inplace=True)\n",
    "\n",
    "df_new"
   ]
  },
  {
   "cell_type": "code",
   "execution_count": null,
   "metadata": {},
   "outputs": [],
   "source": [
    "df_new.to_csv('combined.csv', index = False)"
   ]
  }
 ],
 "metadata": {
  "language_info": {
   "name": "python"
  }
 },
 "nbformat": 4,
 "nbformat_minor": 2
}
